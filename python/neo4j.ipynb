{
 "cells": [
  {
   "cell_type": "code",
   "execution_count": 38,
   "metadata": {
    "collapsed": false
   },
   "outputs": [],
   "source": [
    "from py2neo import Graph\n",
    "\n",
    "graph = Graph(\"http://localhost:7474/db/default.graphdb/\", username=\"neo4j\", password=\"abc\")\n",
    "graph.delete_all()"
   ]
  },
  {
   "cell_type": "code",
   "execution_count": 39,
   "metadata": {
    "collapsed": false
   },
   "outputs": [],
   "source": [
    "graph.evaluate(\"\"\"\n",
    "LOAD CSV WITH HEADERS FROM \"file:///users.csv\" AS line\n",
    "CREATE (:User { id: line.id, screen_name: line.screen_name, location: line.location })\n",
    "\"\"\")\n",
    "\n",
    "graph.evaluate(\"\"\"\n",
    "LOAD CSV WITH HEADERS FROM \"file:///tweets.csv\" AS line\n",
    "CREATE (:Tweet { id: line.id, user_id: line.user_id, text: line.text })\n",
    "\"\"\")\n",
    "\n",
    "graph.evaluate(\"\"\"\n",
    "LOAD CSV WITH HEADERS FROM \"file:///retweets.csv\" AS line\n",
    "CREATE (:Retweet { tweet_id: line.tweet_id, user_id: line.user_id })\n",
    "\"\"\")\n",
    "\n",
    "graph.evaluate(\"\"\"\n",
    "LOAD CSV WITH HEADERS FROM \"file:///tags.csv\" AS line\n",
    "CREATE (:Tag { label: line.label })\n",
    "\"\"\")\n",
    "\n",
    "graph.evaluate(\"\"\"\n",
    "LOAD CSV WITH HEADERS FROM \"file:///tweet_tags.csv\" AS line\n",
    "CREATE (:TweetTag { tweet_id: line.tweet_id, label: line.label })\n",
    "\"\"\")\n",
    "\n",
    "graph.evaluate(\"\"\"\n",
    "LOAD CSV WITH HEADERS FROM \"file:///personalities.csv\" AS line\n",
    "CREATE (:Personality { user_id: line.user_id, similar_id: line.similar_personalities, different_id: line.different_personalities })\n",
    "\"\"\")\n",
    "                     \n",
    "graph.evaluate(\"\"\"\n",
    "LOAD CSV WITH HEADERS FROM \"file:///locations.csv\" AS line\n",
    "CREATE (:Location { sub_state: line.sub_state })\n",
    "\"\"\")\n"
   ]
  },
  {
   "cell_type": "code",
   "execution_count": 40,
   "metadata": {
    "collapsed": true
   },
   "outputs": [],
   "source": [
    "graph.evaluate(\"\"\"\n",
    "MATCH (a:User), (b:Tweet)\n",
    "WHERE a.id = b.user_id\n",
    "CREATE (a)-[r:TWEETED]->(b)\n",
    "\"\"\")\n",
    "         \n",
    "graph.evaluate(\"\"\"\n",
    "MATCH (a:Tweet), (b:User), (c:Retweet)\n",
    "WHERE a.id = c.tweet_id AND b.id = c.user_id\n",
    "CREATE (b)-[r:RETWEETED]->(a)\n",
    "\"\"\")\n",
    "         \n",
    "graph.evaluate(\"\"\"\n",
    "MATCH (a:Tweet), (b:Tag), (c:TweetTag)\n",
    "WHERE a.id = c.tweet_id AND c.label = b.label\n",
    "CREATE (a)-[r:TAGGED]->(b)\n",
    "\"\"\")\n",
    "\n",
    "graph.evaluate(\"\"\"\n",
    "MATCH (a:User), (b:User), (c:Personality)\n",
    "WHERE a.id = c.user_id AND b.id = c.similar_id\n",
    "CREATE (a)-[r:SIMILAR]->(b)\n",
    "\"\"\")\n",
    "\n",
    "graph.evaluate(\"\"\"\n",
    "MATCH (a:User), (b:User), (c:Personality)\n",
    "WHERE a.id = c.user_id AND b.id = c.different_id\n",
    "CREATE (a)-[r:DIFFERENT]->(b)\n",
    "\"\"\")\n",
    "         \n",
    "graph.evaluate(\"\"\"\n",
    "MATCH (a:User), (b:Location)\n",
    "WHERE a.location = b.sub_state\n",
    "CREATE (a)-[r:LIVES]->(b)\n",
    "\"\"\")"
   ]
  },
  {
   "cell_type": "code",
   "execution_count": null,
   "metadata": {
    "collapsed": true
   },
   "outputs": [],
   "source": []
  },
  {
   "cell_type": "code",
   "execution_count": null,
   "metadata": {
    "collapsed": true
   },
   "outputs": [],
   "source": [
    "  \n"
   ]
  },
  {
   "cell_type": "code",
   "execution_count": null,
   "metadata": {
    "collapsed": true
   },
   "outputs": [],
   "source": []
  }
 ],
 "metadata": {
  "kernelspec": {
   "display_name": "Python 3",
   "language": "python",
   "name": "python3"
  },
  "language_info": {
   "codemirror_mode": {
    "name": "ipython",
    "version": 3
   },
   "file_extension": ".py",
   "mimetype": "text/x-python",
   "name": "python",
   "nbconvert_exporter": "python",
   "pygments_lexer": "ipython3",
   "version": "3.5.1"
  }
 },
 "nbformat": 4,
 "nbformat_minor": 0
}
